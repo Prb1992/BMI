{
 "cells": [
  {
   "cell_type": "code",
   "execution_count": 2,
   "id": "5d5bdd2f",
   "metadata": {},
   "outputs": [
    {
     "name": "stdout",
     "output_type": "stream",
     "text": [
      "enter the weight in kg :45\n",
      "enter the weight in cm :67\n",
      "your body mass index(BMI) is : 100.24504343951881\n",
      "severely overweight\n"
     ]
    }
   ],
   "source": [
    "df_weight=float(input(\"enter the weight in kg :\"))\n",
    "df_height=float(input(\"enter the weight in cm :\"))\n",
    "df_height=df_height/100\n",
    "BMI=df_weight/(df_height*df_height)\n",
    "print(\"your body mass index(BMI) is :\",BMI)\n",
    "if BMI > 0:\n",
    "    if BMI <=16:\n",
    "        print(\" severely underweight\")\n",
    "    elif BMI <=18.5:\n",
    "        print(\"underweight\")\n",
    "    elif BMI<=25:\n",
    "        print(\"healthy\")\n",
    "    \n",
    "    elif BMI <=30:\n",
    "        print(\"overweight\")\n",
    "    else:\n",
    "        print(\"severely overweight\")\n",
    "else:\n",
    "    (\"enter the vaild details\")\n"
   ]
  },
  {
   "cell_type": "code",
   "execution_count": null,
   "id": "a36b006d",
   "metadata": {},
   "outputs": [],
   "source": []
  }
 ],
 "metadata": {
  "kernelspec": {
   "display_name": "Python 3",
   "language": "python",
   "name": "python3"
  },
  "language_info": {
   "codemirror_mode": {
    "name": "ipython",
    "version": 3
   },
   "file_extension": ".py",
   "mimetype": "text/x-python",
   "name": "python",
   "nbconvert_exporter": "python",
   "pygments_lexer": "ipython3",
   "version": "3.8.8"
  }
 },
 "nbformat": 4,
 "nbformat_minor": 5
}
